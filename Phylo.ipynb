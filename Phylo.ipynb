{
 "cells": [
  {
   "cell_type": "code",
   "execution_count": 1,
   "metadata": {},
   "outputs": [],
   "source": [
    "from ete3 import Tree, TreeStyle, NodeStyle\n",
    "\n",
    "from Bio import Phylo\n",
    "from Bio.Phylo.Applications import PhymlCommandline\n",
    "from Bio.Phylo.PAML import codeml\n",
    "from Bio.Phylo.PhyloXML import Phylogeny\n"
   ]
  },
  {
   "cell_type": "code",
   "execution_count": 2,
   "metadata": {},
   "outputs": [],
   "source": [
    "tree = Tree(\"data/mafft.tree\", format=1)"
   ]
  },
  {
   "cell_type": "code",
   "execution_count": 3,
   "metadata": {},
   "outputs": [],
   "source": [
    "node1 = NodeStyle()\n",
    "node1['bgcolor'] = '#f6e1b9'\n",
    "node2 = NodeStyle()\n",
    "node2['bgcolor'] = '#daf0df'\n",
    "node3 = NodeStyle()\n",
    "node3['bgcolor'] = '#b0d7cd'\n",
    "node4 = NodeStyle()\n",
    "node4['bgcolor'] = '#dbe6c0'\n",
    "node5 = NodeStyle()\n",
    "node5['bgcolor'] = '#c0dbe6'\n",
    "n1 = tree.get_common_ancestor('M.musculus BarH-like-1', 'D.melanogaster NK-4')\n",
    "n2 = tree.get_common_ancestor('D.melanogaster Goosecoid', 'Pele PAX6 Ortholog')\n",
    "n3 = tree.get_common_ancestor('M.musculus PBX1', 'C.elegans unc-62')\n",
    "n4 = tree.get_common_ancestor('M.musculus SIX4', 'Pdum SIX4 Ortholog')\n",
    "n5 = tree.get_common_ancestor('C.elegans ceh-44', 'Pele ceh-44 Ortholog')\n",
    "\n",
    "n1.set_style(node1)\n",
    "n2.set_style(node2)\n",
    "n3.set_style(node3)\n",
    "n4.set_style(node4)\n",
    "n5.set_style(node5)\n",
    "tree.show()"
   ]
  },
  {
   "cell_type": "code",
   "execution_count": 4,
   "metadata": {},
   "outputs": [],
   "source": [
    "tree2 = Tree(\"data/NKL.tre\", format=1)\n",
    "tree2.show()"
   ]
  },
  {
   "cell_type": "code",
   "execution_count": 43,
   "metadata": {},
   "outputs": [],
   "source": [
    "final_tree = Tree(\"data/final.tre\", format=1)\n",
    "\n",
    "node1 = NodeStyle()\n",
    "node1['bgcolor'] = '#f6e1b9'\n",
    "node2 = NodeStyle()\n",
    "node2['bgcolor'] = '#daf0df'\n",
    "node3 = NodeStyle()\n",
    "node3['bgcolor'] = '#b0d7cd'\n",
    "node4 = NodeStyle()\n",
    "node4['bgcolor'] = '#dbe6c0'\n",
    "node5 = NodeStyle()\n",
    "node5['bgcolor'] = '#c0dbe6'\n",
    "n1 = final_tree.get_common_ancestor('C.elegans ceh-28', 'D.melanogaster Distal-less')\n",
    "n2 = final_tree.get_common_ancestor('D.melanogaster Goosecoid', 'Pele PAX6 Ortholog')\n",
    "n3 = final_tree.get_common_ancestor('M.musculus PBX1', 'Pdum PBX1 Ortholog')\n",
    "n4 = final_tree.get_common_ancestor('M.musculus SIX4', 'Pdum SIX4 Ortholog')\n",
    "\n",
    "n1.set_style(node1)\n",
    "n2.set_style(node2)\n",
    "n3.set_style(node3)\n",
    "n4.set_style(node4)\n",
    "n5.set_style(node5)\n",
    "\n",
    "ts = TreeStyle()\n",
    "ts.mode='c'\n",
    "\n",
    "final_tree.show()"
   ]
  }
 ],
 "metadata": {
  "kernelspec": {
   "display_name": "Python 3",
   "language": "python",
   "name": "python3"
  },
  "language_info": {
   "codemirror_mode": {
    "name": "ipython",
    "version": 3
   },
   "file_extension": ".py",
   "mimetype": "text/x-python",
   "name": "python",
   "nbconvert_exporter": "python",
   "pygments_lexer": "ipython3",
   "version": "3.12.0"
  }
 },
 "nbformat": 4,
 "nbformat_minor": 2
}
